{
 "cells": [
  {
   "cell_type": "code",
   "execution_count": null,
   "metadata": {},
   "outputs": [],
   "source": [
    "import pandas as pd\n",
    "import numpy as np\n",
    "import matplotlib.pyplot as plt\n",
    "import seaborn as sns\n",
    "%matplotlib inline"
   ]
  },
  {
   "cell_type": "code",
   "execution_count": null,
   "metadata": {},
   "outputs": [],
   "source": [
    "df = pd.read_csv(\"datasets/processed_data_with_stages.csv\")\n",
    "df = df.rename(columns={\"Unnamed: 0\":\"Timestamp\"})"
   ]
  },
  {
   "cell_type": "code",
   "execution_count": null,
   "metadata": {},
   "outputs": [],
   "source": [
    "df.head()"
   ]
  },
  {
   "attachments": {},
   "cell_type": "markdown",
   "metadata": {},
   "source": [
    "## Exploratory Data Analysis"
   ]
  },
  {
   "cell_type": "code",
   "execution_count": null,
   "metadata": {},
   "outputs": [],
   "source": [
    "df.drop('Timestamp',axis=1).describe()"
   ]
  },
  {
   "cell_type": "code",
   "execution_count": null,
   "metadata": {
    "scrolled": true
   },
   "outputs": [],
   "source": [
    "plt.figure(figsize=(12,8))\n",
    "\n",
    "plt.subplot(2, 2, 1)\n",
    "sns.despine()\n",
    "\n",
    "plt.title(\"DAC (Algoritmo de Disciplinado)\")\n",
    "sns.set_style(\"darkgrid\")\n",
    "sns.histplot(data=df,x=\"DAC\",bins=30, color=\"#c6474b\")\n",
    "plt.xlabel('')\n",
    "plt.ylabel(\"Nº de Timestamps\")\n",
    "sns.despine()\n",
    "\n",
    "plt.subplot(2, 2, 2)\n",
    "\n",
    "plt.title(\"Error de Fase (Phase Error)\")\n",
    "sns.set_style(\"darkgrid\")\n",
    "sns.histplot(data=df,x=\"Phase Error\",bins=30, color=\"#c6474b\")\n",
    "plt.xlabel('')\n",
    "plt.ylabel(\"\")\n",
    "sns.despine()\n",
    "\n",
    "plt.subplot(2, 2, 3)\n",
    "\n",
    "plt.title(\"Temperatura\")\n",
    "sns.set_style(\"darkgrid\")\n",
    "sns.histplot(data=df,x=\"Temperature\",bins=30, color=\"#c6474b\")\n",
    "plt.xlabel('')\n",
    "plt.ylabel(\"Nº de Timestamps\")\n",
    "sns.despine()\n",
    "\n",
    "plt.subplot(2, 2, 4)\n",
    "\n",
    "plt.title(\"Error de Frecuencia (Frequency Error)\")\n",
    "sns.set_style(\"darkgrid\")\n",
    "sns.histplot(data=df,x=\"Frequency Error\",bins=30, color=\"#c6474b\")\n",
    "plt.xlabel('')\n",
    "plt.ylabel(\"\")\n",
    "sns.despine()\n",
    "\n",
    "plt.tight_layout()\n",
    "\n",
    "#plt.savefig(\"fotos/eda_4variables_juntas.png\")"
   ]
  },
  {
   "cell_type": "code",
   "execution_count": null,
   "metadata": {
    "scrolled": false
   },
   "outputs": [],
   "source": [
    "plt.figure(figsize=(12,8))\n",
    "\n",
    "plt.subplot(2, 2, 1)\n",
    "\n",
    "plt.title(\"DAC (Algoritmo de Disciplinado)\")\n",
    "sns.set_style(\"darkgrid\")\n",
    "sns.lineplot(data=df[\"DAC\"], color=\"#c6474b\")\n",
    "plt.xlabel('')\n",
    "plt.ylabel(\"\")\n",
    "sns.despine()\n",
    "\n",
    "plt.subplot(2, 2, 2)\n",
    "\n",
    "plt.title(\"Error de Fase (Phase Error)\")\n",
    "sns.set_style(\"darkgrid\")\n",
    "sns.lineplot(data=df[\"Phase Error\"], color=\"#c6474b\")\n",
    "plt.xlabel('')\n",
    "plt.ylabel(\"\")\n",
    "sns.despine()\n",
    "\n",
    "plt.subplot(2, 2, 3)\n",
    "\n",
    "plt.title(\"Temperatura\")\n",
    "sns.set_style(\"darkgrid\")\n",
    "sns.lineplot(data=df[\"Temperature\"], color=\"#c6474b\")\n",
    "plt.xlabel('')\n",
    "plt.ylabel(\"\")\n",
    "sns.despine()\n",
    "\n",
    "plt.subplot(2, 2, 4)\n",
    "\n",
    "plt.title(\"Error de Frecuencia (Frequency Error)\")\n",
    "sns.set_style(\"darkgrid\")\n",
    "sns.lineplot(data=df[\"Frequency Error\"], color=\"#c6474b\")\n",
    "plt.xlabel('')\n",
    "plt.ylabel(\"\")\n",
    "sns.despine()\n",
    "\n",
    "plt.tight_layout()\n",
    "\n",
    "#plt.savefig(\"fotos/eda_4variables_juntas_through_time.png\")"
   ]
  },
  {
   "cell_type": "code",
   "execution_count": null,
   "metadata": {
    "scrolled": true
   },
   "outputs": [],
   "source": [
    "#corr= data.select_dtypes(['int','float']).corr()\n",
    "# Getting the Upper Triangle of the co-relation matrix\n",
    "matrix = np.triu(df.drop(\"Timestamp\",axis=1).corr())\n",
    "\n",
    "fig, axes = plt.subplots(nrows = 1, ncols = 2, figsize = (16,6))\n",
    "sns.set_style(\"darkgrid\")\n",
    "fig.suptitle(\"Matriz de Correlación\")\n",
    "# Heatmap without absolute values\n",
    "sns.heatmap(df.drop(\"Timestamp\",axis=1).corr(), annot=True,mask=matrix, center = 0, cmap = 'vlag', ax = axes[0]).set_title('Sin valor absoluto')\n",
    "# Heatmap with absolute values\n",
    "sns.heatmap(abs(df.drop(\"Timestamp\",axis=1).corr()), annot=True,mask=matrix, center = 0, cmap = 'vlag', ax = axes[1]).set_title('Con valor absoluto')\n",
    "\n",
    "fig.tight_layout()\n",
    "#fig.savefig(\"./fotos/eda_var_correlation.png\")"
   ]
  },
  {
   "cell_type": "code",
   "execution_count": null,
   "metadata": {},
   "outputs": [],
   "source": [
    "sns.set_style(\"darkgrid\")\n",
    "g=sns.pairplot(df.drop(\"Timestamp\",axis=1),corner=True)\n",
    "g.map_lower(sns.scatterplot,color='#c6474b')\n",
    "g.map_diag(plt.hist)\n",
    "#plt.savefig(\"./fotos/eda_relaciones_atributos.png\")"
   ]
  },
  {
   "cell_type": "code",
   "execution_count": null,
   "metadata": {
    "scrolled": true
   },
   "outputs": [],
   "source": [
    "plt.figure(figsize=(13,5))\n",
    "\n",
    "plt.subplot(1, 2, 1)\n",
    "\n",
    "plt.title(\"DAC en Timestamps\")\n",
    "sns.set_style(\"darkgrid\")\n",
    "sns.lineplot(data=pd.Series(df['DAC'].values,index=df['Timestamp'].values), color=\"#c6474b\")\n",
    "plt.xlabel('Timestamp')\n",
    "#lt.ylabel(\"Nº de Timestamps\")\n",
    "sns.despine()\n",
    "\n",
    "plt.subplot(1, 2, 2)\n",
    "\n",
    "plt.title(\"DAC en Índice Numérico\")\n",
    "sns.set_style(\"darkgrid\")\n",
    "sns.lineplot(data=df[\"DAC\"].values, color=\"#c6474b\")\n",
    "plt.xlabel('')\n",
    "plt.ylabel(\"\")\n",
    "sns.despine()\n",
    "plt.suptitle(\"Comparación DAC representado en Timestamps vs Índice Numérico\")\n",
    "\n",
    "plt.tight_layout()\n",
    "#plt.savefig(\"./fotos/eda_dac_timestamp_vs_indice.png\")"
   ]
  }
 ],
 "metadata": {
  "kernelspec": {
   "display_name": "Python 3",
   "language": "python",
   "name": "python3"
  },
  "language_info": {
   "codemirror_mode": {
    "name": "ipython",
    "version": 3
   },
   "file_extension": ".py",
   "mimetype": "text/x-python",
   "name": "python",
   "nbconvert_exporter": "python",
   "pygments_lexer": "ipython3",
   "version": "3.6.9"
  }
 },
 "nbformat": 4,
 "nbformat_minor": 5
}
