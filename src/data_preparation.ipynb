{
 "cells": [
  {
   "cell_type": "code",
   "execution_count": null,
   "metadata": {
    "scrolled": true
   },
   "outputs": [],
   "source": [
    "import pandas as pd\n",
    "import numpy as np\n",
    "import matplotlib.pyplot as plt\n",
    "import seaborn as sns\n",
    "%matplotlib inline"
   ]
  },
  {
   "cell_type": "code",
   "execution_count": null,
   "metadata": {},
   "outputs": [],
   "source": [
    "OSCILLATOR = '153'  # 153, 154 or 155\n",
    "TIME_FRAME = 'M'  # 'H', 'M' or 'S'\n",
    "EXPORTED_TIMESTAMP = '1656423962'\n",
    "\n",
    "def get_file_path(oscillator, time_frame, dataset):\n",
    "    if time_frame == 'H':\n",
    "        return f\"./datasets/10.15.237.{oscillator}_hr_{EXPORTED_TIMESTAMP}/{dataset}.csv\"\n",
    "    elif time_frame == 'M':\n",
    "        return f\"./datasets/10.15.237.{oscillator}_min_{EXPORTED_TIMESTAMP}/{dataset}.csv\"\n",
    "    elif time_frame == 'S':\n",
    "        return f\"./datasets/10.15.237.{oscillator}_sec_{EXPORTED_TIMESTAMP}/{dataset}.csv\""
   ]
  },
  {
   "attachments": {},
   "cell_type": "markdown",
   "id": "75ae5efb",
   "metadata": {},
   "source": [
    "## Delete Constant State and Process Lock State"
   ]
  },
  {
   "attachments": {},
   "cell_type": "markdown",
   "metadata": {},
   "source": [
    "Queremos conseguir los Timestamps donde el oscilador esté en estado Lock estable; es decir, que el valor de xoState sea $4$"
   ]
  },
  {
   "cell_type": "code",
   "execution_count": null,
   "metadata": {},
   "outputs": [],
   "source": [
    "def get_raw_states(oscillator, time_frame):\n",
    "    states_path = get_file_path(oscillator,time_frame,'xoState')\n",
    "    \n",
    "    df = pd.read_csv(states_path)\n",
    "    df = df.drop(['End: -1'], axis=1)\n",
    "    df.columns = ['Timestamp','State']\n",
    "    df = df.drop(0, axis=0)\n",
    "    df['State'] = df['State'].astype(np.float64)\n",
    "    \n",
    "    return df"
   ]
  },
  {
   "cell_type": "code",
   "execution_count": null,
   "metadata": {},
   "outputs": [],
   "source": [
    "df = get_raw_states(OSCILLATOR,TIME_FRAME)"
   ]
  },
  {
   "cell_type": "code",
   "execution_count": null,
   "metadata": {
    "scrolled": true
   },
   "outputs": [],
   "source": [
    "plt.figure(figsize=(12,6))\n",
    "plt.title(\"State through time\")\n",
    "sns.set_style(\"darkgrid\")\n",
    "sns.lineplot(data=df[\"State\"], color=\"#c6474b\")\n",
    "#plt.ylabel(\"State\")\n",
    "sns.despine()\n",
    "#plt.savefig(\"fotos/state_through_time_constant_lock_included.png\")"
   ]
  },
  {
   "cell_type": "code",
   "execution_count": null,
   "metadata": {},
   "outputs": [],
   "source": [
    "def delete_constant_lock_values(df):\n",
    "    for i in range(len(df)):\n",
    "        if df.iloc[len(df)-i-1]['State'] != 4.0:\n",
    "            constant_lock_start = df.iloc[len(df)-i]['Timestamp']\n",
    "            break\n",
    "    \n",
    "    df = df[:df[df['Timestamp']==constant_lock_start].index.values[0]]\n",
    "    return df"
   ]
  },
  {
   "cell_type": "code",
   "execution_count": null,
   "metadata": {},
   "outputs": [],
   "source": [
    "df = delete_constant_lock_values(df)"
   ]
  },
  {
   "cell_type": "code",
   "execution_count": null,
   "metadata": {
    "scrolled": false
   },
   "outputs": [],
   "source": [
    "plt.figure(figsize=(16,7))\n",
    "plt.subplot(1, 2, 1)\n",
    "plt.title(\"Original\")\n",
    "sns.set_style(\"darkgrid\")\n",
    "sns.lineplot(data=df[\"State\"], color=\"#c6474b\")\n",
    "#plt.ylabel(\"State\")\n",
    "sns.despine()\n",
    "\n",
    "#plot 2:\n",
    "plt.subplot(1, 2, 2)\n",
    "plt.title(\"Zoom\")\n",
    "sns.set_style(\"darkgrid\")\n",
    "sns.lineplot(data=df[\"State\"],color=\"#c6474b\")\n",
    "plt.ylabel(\"\")\n",
    "sns.despine()\n",
    "plt.xlim([175,190])\n",
    "plt.suptitle(\"Clock State Through Time\")\n",
    "plt.tight_layout()\n",
    "#plt.savefig(\"fotos/state_through_time.png\")"
   ]
  },
  {
   "cell_type": "code",
   "execution_count": null,
   "metadata": {},
   "outputs": [],
   "source": [
    "len(df)"
   ]
  },
  {
   "cell_type": "code",
   "execution_count": null,
   "metadata": {},
   "outputs": [],
   "source": [
    "def get_lock_state_timestamps(raw_df):\n",
    "    df = raw_df.loc[raw_df[\"State\"]==4]\n",
    "    df = df.drop(\"State\",axis=1)\n",
    "    \n",
    "    return df"
   ]
  },
  {
   "cell_type": "code",
   "execution_count": null,
   "metadata": {},
   "outputs": [],
   "source": [
    "df = get_lock_state_timestamps(df)"
   ]
  },
  {
   "cell_type": "code",
   "execution_count": null,
   "metadata": {},
   "outputs": [],
   "source": [
    "len(df)"
   ]
  },
  {
   "cell_type": "code",
   "execution_count": null,
   "metadata": {},
   "outputs": [],
   "source": [
    "def join_features(df, oscillator, time_frame):\n",
    "    xoDAC = get_file_path(oscillator,time_frame,'xoDac_xoState-Lock')\n",
    "\n",
    "    dac_df = pd.read_csv(xoDAC)\n",
    "    dac_df = dac_df.drop(['Start: 0','End: -1'], axis=1)\n",
    "    dac_df.columns = ['Timestamp','DAC']\n",
    "    dac_df = dac_df.drop(0, axis=0)\n",
    "    df = df.merge(dac_df,on='Timestamp')\n",
    "    \n",
    "    \n",
    "    xoPhaseError = get_file_path(oscillator,time_frame,'xoPhaseError_xoState-Lock')\n",
    "    \n",
    "    phase_df = pd.read_csv(xoPhaseError)\n",
    "    phase_df = phase_df.drop(['Start: 0','End: -1'], axis=1)\n",
    "    phase_df.columns = ['Timestamp','Phase Error']\n",
    "    phase_df = phase_df.drop(0, axis=0)\n",
    "    df = df.merge(phase_df,on='Timestamp') \n",
    "    \n",
    "    \n",
    "    sysOscTemp = get_file_path(oscillator,time_frame,'sysOscTemp')\n",
    "    \n",
    "    temp_df = pd.read_csv(sysOscTemp)\n",
    "    temp_df = temp_df.drop('End: -1', axis=1)\n",
    "    temp_df.columns = ['Timestamp','Temperature']\n",
    "    temp_df = temp_df.drop(0, axis=0)\n",
    "    df = df.merge(temp_df,on='Timestamp')\n",
    "    \n",
    "    \n",
    "    xoFreqError = get_file_path(oscillator,time_frame,'xoFreqError_xoState-Lock')\n",
    "    \n",
    "    freq_df = pd.read_csv(xoFreqError)\n",
    "    freq_df = freq_df.drop(['Start: 0','End: -1'], axis=1)\n",
    "    freq_df.columns = ['Timestamp','Frequency Error']\n",
    "    freq_df = freq_df.drop(0, axis=0)\n",
    "    df = df.merge(freq_df,on='Timestamp')\n",
    "    \n",
    "    return df"
   ]
  },
  {
   "cell_type": "code",
   "execution_count": null,
   "metadata": {},
   "outputs": [],
   "source": [
    "def format_features(df):\n",
    "    df[['DAC','Phase Error','Temperature','Frequency Error']] = df[['DAC','Phase Error','Temperature','Frequency Error']].astype(np.float64)\n",
    "    df['Timestamp'] = df['Timestamp'].astype(int)\n",
    "    return df"
   ]
  },
  {
   "cell_type": "code",
   "execution_count": null,
   "metadata": {},
   "outputs": [],
   "source": [
    "df = join_features(df, OSCILLATOR, TIME_FRAME)\n",
    "df = format_features(df)"
   ]
  },
  {
   "cell_type": "code",
   "execution_count": null,
   "metadata": {},
   "outputs": [],
   "source": [
    "print('Number of missing values:')\n",
    "print(df.isna().sum())"
   ]
  },
  {
   "cell_type": "code",
   "execution_count": null,
   "metadata": {
    "scrolled": true
   },
   "outputs": [],
   "source": [
    "df.head()"
   ]
  },
  {
   "cell_type": "code",
   "execution_count": null,
   "metadata": {},
   "outputs": [],
   "source": [
    "df.to_csv(\"datasets/processed_data.csv\", index=False)"
   ]
  },
  {
   "cell_type": "code",
   "execution_count": null,
   "metadata": {
    "scrolled": false
   },
   "outputs": [],
   "source": [
    "plt.figure(figsize=(16,7))\n",
    "#plt.subplot(1, 2, 1)\n",
    "plt.title(\"DAC (Target)\")\n",
    "sns.set_style(\"darkgrid\")\n",
    "sns.lineplot(data=df[\"DAC\"].values, color=\"#c6474b\")\n",
    "#plt.ylabel(\"State\")\n",
    "sns.despine()\n",
    "plt.xlim([0,3584])\n",
    "\n",
    "#plt.savefig(\"fotos/raw_DAC_value_to_predict.png\")"
   ]
  },
  {
   "attachments": {},
   "cell_type": "markdown",
   "metadata": {},
   "source": [
    "## Split DAC data into stages"
   ]
  },
  {
   "cell_type": "code",
   "execution_count": null,
   "id": "ef0093d3",
   "metadata": {},
   "outputs": [],
   "source": [
    "df = get_raw_states(OSCILLATOR,TIME_FRAME)\n",
    "df = delete_constant_lock_values(df)\n",
    "df = get_lock_state_timestamps(df)\n",
    "df = join_features(df, OSCILLATOR, TIME_FRAME)\n",
    "df = format_features(df)"
   ]
  },
  {
   "cell_type": "code",
   "execution_count": null,
   "metadata": {
    "scrolled": true
   },
   "outputs": [],
   "source": [
    "def get_state_change_by_timestamp(oscillator, time_frame):\n",
    "    state_info = get_file_path(oscillator,time_frame,'xoState_change-true')\n",
    "    aux_df = pd.read_csv(state_info)\n",
    "    aux_df = aux_df.drop(['Start: 0','End: -1'], axis=1)\n",
    "    aux_df.columns = ['Timestamp','Lock=4']\n",
    "    aux_df = aux_df.drop(0, axis=0)\n",
    "    aux_df['Lock=4'] = aux_df['Lock=4'].astype(np.float64)\n",
    "    \n",
    "    return aux_df"
   ]
  },
  {
   "cell_type": "code",
   "execution_count": null,
   "metadata": {},
   "outputs": [],
   "source": [
    "state_info = get_state_change_by_timestamp(OSCILLATOR, TIME_FRAME)"
   ]
  },
  {
   "cell_type": "code",
   "execution_count": null,
   "metadata": {
    "scrolled": true
   },
   "outputs": [],
   "source": [
    "state_info.head(10)"
   ]
  },
  {
   "cell_type": "code",
   "execution_count": null,
   "id": "042c3a31",
   "metadata": {},
   "outputs": [],
   "source": [
    "def get_stages_info(df,state_info,var):\n",
    "    stages = np.array([])\n",
    "    new_stage = np.array([])\n",
    "    start_stage = False\n",
    "    init_timestamp = int(0)\n",
    "    count = 0\n",
    "    for index,row in state_info.iterrows():\n",
    "        if start_stage == True:\n",
    "            for i,r in df.iterrows():\n",
    "                if int(r['Timestamp']) >= init_timestamp and int(r['Timestamp']) <= int(row['Timestamp']):\n",
    "                    new_stage = np.append(new_stage,r[var])\n",
    "                    #print(new_stage)\n",
    "                    \n",
    "            stages = np.append(stages,[count,new_stage])\n",
    "            count += 1\n",
    "            #print(stages)\n",
    "            new_stage = np.array([])\n",
    "            start_stage = False\n",
    "        if row['Lock=4']==4:\n",
    "            init_timestamp = int(row['Timestamp'])\n",
    "            start_stage=True\n",
    "    \n",
    "    stages = np.delete(stages,34)\n",
    "    stages = np.delete(stages,34)\n",
    "    stages = stages.reshape(int(len(stages)/2),2)\n",
    "\n",
    "    return stages"
   ]
  },
  {
   "cell_type": "code",
   "execution_count": null,
   "id": "d0e7137d",
   "metadata": {},
   "outputs": [],
   "source": [
    "dac_stages = get_stages_info(df,state_info,\"DAC\")\n",
    "freq_stages = get_stages_info(df,state_info,\"Frequency Error\")\n",
    "ph_stages = get_stages_info(df,state_info,\"Phase Error\")\n",
    "temp_stages = get_stages_info(df,state_info,\"Temperature\")"
   ]
  },
  {
   "cell_type": "code",
   "execution_count": null,
   "metadata": {},
   "outputs": [],
   "source": [
    "plt.figure(figsize=(12,6))\n",
    "plt.title('Etapas de disciplinado (sin preprocesado)')\n",
    "for stage in dac_stages:\n",
    "    sns.lineplot(data=stage[1])\n",
    "\n",
    "sns.set_style(\"darkgrid\")\n",
    "plt.xlabel('Timestamp')\n",
    "plt.ylabel('DAC')\n",
    "sns.despine()\n",
    "\n",
    "#plt.savefig('./fotos/etapas_sin_preprocesado.png')"
   ]
  },
  {
   "cell_type": "code",
   "execution_count": null,
   "metadata": {},
   "outputs": [],
   "source": [
    "def stabilize_stages(m,stages):\n",
    "    for stage in stages:\n",
    "        if len(stage[1]) < m:\n",
    "            m=len(stage[1])\n",
    "\n",
    "    for stage in stages:\n",
    "        while len(stage[1]) > m:\n",
    "            stage[1] = np.delete(stage[1],0)\n",
    "    \n",
    "    return stages"
   ]
  },
  {
   "cell_type": "code",
   "execution_count": null,
   "id": "aaa06406",
   "metadata": {},
   "outputs": [],
   "source": [
    "dac_stages = stabilize_stages(150,dac_stages)\n",
    "freq_stages = stabilize_stages(150,freq_stages)\n",
    "ph_stages = stabilize_stages(150,ph_stages)\n",
    "temp_stages = stabilize_stages(150,temp_stages)"
   ]
  },
  {
   "cell_type": "code",
   "execution_count": null,
   "id": "686151e0",
   "metadata": {},
   "outputs": [],
   "source": [
    "plt.figure(figsize=(14,12))\n",
    "plt.suptitle('          Etapas estables de disciplinado',fontsize=18)\n",
    "plt.subplot(4, 1, 1)\n",
    "\n",
    "plt.title('DAC')\n",
    "for stage in dac_stages:\n",
    "    sns.lineplot(data=stage[1])\n",
    "\n",
    "sns.set_style(\"darkgrid\")\n",
    "\n",
    "sns.despine()\n",
    "\n",
    "plt.subplot(4, 1, 2)\n",
    "\n",
    "plt.title('Error de Frecuencia')\n",
    "for stage in freq_stages:\n",
    "    sns.lineplot(data=stage[1])\n",
    "\n",
    "sns.set_style(\"darkgrid\")\n",
    "\n",
    "sns.despine()\n",
    "\n",
    "plt.subplot(4, 1, 3)\n",
    "\n",
    "plt.title('Error de Fase')\n",
    "for stage in ph_stages:\n",
    "    sns.lineplot(data=stage[1])\n",
    "\n",
    "sns.set_style(\"darkgrid\")\n",
    "\n",
    "sns.despine()\n",
    "\n",
    "plt.subplot(4, 1, 4)\n",
    "\n",
    "plt.title('Temperatura')\n",
    "for stage in temp_stages:\n",
    "    sns.lineplot(data=stage[1])\n",
    "\n",
    "sns.set_style(\"darkgrid\")\n",
    "\n",
    "sns.despine()\n",
    "\n",
    "plt.tight_layout()\n",
    "\n",
    "#plt.savefig(\"fotos/etapas_juntas_todas_variables153.png\")"
   ]
  },
  {
   "attachments": {},
   "cell_type": "markdown",
   "id": "ca287fdd",
   "metadata": {},
   "source": [
    "## Join Features according to stages"
   ]
  },
  {
   "cell_type": "code",
   "execution_count": null,
   "id": "46cee6c8",
   "metadata": {},
   "outputs": [],
   "source": [
    "concat_dac_stages = np.array([])\n",
    "for stage in dac_stages:\n",
    "    concat_dac_stages = np.append(concat_dac_stages,stage[1])\n",
    "concat_freq_stages = np.array([])\n",
    "for stage in freq_stages:\n",
    "    concat_freq_stages = np.append(concat_freq_stages,stage[1])\n",
    "concat_ph_stages = np.array([])\n",
    "for stage in ph_stages:\n",
    "    concat_ph_stages = np.append(concat_ph_stages,stage[1])\n",
    "concat_temp_stages = np.array([])\n",
    "for stage in temp_stages:\n",
    "    concat_temp_stages = np.append(concat_temp_stages,stage[1])\n",
    "\n",
    "df = pd.DataFrame()\n",
    "df['DAC'] = concat_dac_stages\n",
    "df['Frequency Error'] = concat_freq_stages\n",
    "df['Phase Error'] = concat_ph_stages\n",
    "df['Temperature'] = concat_temp_stages"
   ]
  },
  {
   "cell_type": "code",
   "execution_count": null,
   "id": "b60dd031",
   "metadata": {},
   "outputs": [],
   "source": [
    "df.head()"
   ]
  },
  {
   "cell_type": "code",
   "execution_count": null,
   "metadata": {
    "scrolled": true
   },
   "outputs": [],
   "source": [
    "plt.figure(figsize=(16,7))\n",
    "#plt.subplot(1, 2, 1)\n",
    "plt.title(\"DAC\")\n",
    "sns.set_style(\"darkgrid\")\n",
    "sns.lineplot(data=df[\"DAC\"].values, color=\"#c6474b\")\n",
    "#plt.ylabel(\"State\")\n",
    "sns.despine()\n",
    "#plt.xlim([0,3584])\n",
    "#plt.savefig('./fotos/DAC_n_valores_fuera.png')"
   ]
  },
  {
   "cell_type": "code",
   "execution_count": null,
   "metadata": {},
   "outputs": [],
   "source": [
    "df.to_csv(\"datasets/processed_data_with_stages.csv\")"
   ]
  },
  {
   "attachments": {},
   "cell_type": "markdown",
   "id": "42ee007a",
   "metadata": {},
   "source": [
    "## Check Second-rate data"
   ]
  },
  {
   "cell_type": "code",
   "execution_count": null,
   "id": "28de7bb9",
   "metadata": {},
   "outputs": [],
   "source": [
    "EXPORTED_TIMESTAMP = \"1656423428\"\n",
    "TIME_FRAME = \"S\"\n",
    "df = get_raw_states(OSCILLATOR,TIME_FRAME)\n",
    "#df = delete_constant_lock_values(df)\n",
    "df = get_lock_state_timestamps(df)\n",
    "df = join_features(df, OSCILLATOR, TIME_FRAME)\n",
    "df = format_features(df)"
   ]
  },
  {
   "cell_type": "code",
   "execution_count": null,
   "id": "4eae5211",
   "metadata": {},
   "outputs": [],
   "source": [
    "plt.figure(figsize=(16,7))\n",
    "#plt.subplot(1, 2, 1)\n",
    "plt.title(\"DAC medido en Segundos\")\n",
    "sns.set_style(\"darkgrid\")\n",
    "sns.lineplot(data=df[\"DAC\"].values, color=\"#c6474b\")\n",
    "#plt.ylabel(\"State\")\n",
    "sns.despine()\n",
    "plt.xlim([0,6749])\n",
    "\n",
    "plt.savefig(\"fotos/secondrateDAC.png\")"
   ]
  },
  {
   "attachments": {},
   "cell_type": "markdown",
   "id": "8f9d1b16",
   "metadata": {},
   "source": [
    "## Process All Oscilators Data"
   ]
  },
  {
   "attachments": {},
   "cell_type": "markdown",
   "id": "a3893c2c",
   "metadata": {},
   "source": [
    "### Oscilator 154"
   ]
  },
  {
   "cell_type": "code",
   "execution_count": null,
   "id": "d61fc4d7",
   "metadata": {},
   "outputs": [],
   "source": [
    "OSCILLATOR=\"154\"\n",
    "EXPORTED_TIMESTAMP=\"1656424100\"\n",
    "TIME_FRAME=\"M\"\n",
    "df1 = get_raw_states(OSCILLATOR,TIME_FRAME)"
   ]
  },
  {
   "cell_type": "code",
   "execution_count": null,
   "id": "d7d0c58f",
   "metadata": {},
   "outputs": [],
   "source": [
    "plt.figure(figsize=(12,6))\n",
    "plt.title(\"State through time\")\n",
    "sns.set_style(\"darkgrid\")\n",
    "sns.lineplot(data=df1[\"State\"], color=\"#c6474b\")\n",
    "#plt.ylabel(\"State\")\n",
    "sns.despine()"
   ]
  },
  {
   "cell_type": "code",
   "execution_count": null,
   "id": "d01a1df8",
   "metadata": {},
   "outputs": [],
   "source": [
    "df1 = get_lock_state_timestamps(df1)\n",
    "df1 = join_features(df1, OSCILLATOR, TIME_FRAME)\n",
    "df1 = format_features(df1)"
   ]
  },
  {
   "cell_type": "code",
   "execution_count": null,
   "id": "441e7705",
   "metadata": {},
   "outputs": [],
   "source": [
    "plt.figure(figsize=(16,7))\n",
    "#plt.subplot(1, 2, 1)\n",
    "plt.title(\"DAC (Target)\")\n",
    "sns.set_style(\"darkgrid\")\n",
    "sns.lineplot(data=df1[\"DAC\"].values, color=\"#c6474b\")\n",
    "#plt.ylabel(\"State\")\n",
    "sns.despine()\n",
    "plt.xlim([0,3584])"
   ]
  },
  {
   "cell_type": "code",
   "execution_count": null,
   "id": "97c01847",
   "metadata": {},
   "outputs": [],
   "source": [
    "state_info = get_state_change_by_timestamp(OSCILLATOR, TIME_FRAME)"
   ]
  },
  {
   "cell_type": "code",
   "execution_count": null,
   "id": "9e4785e5",
   "metadata": {},
   "outputs": [],
   "source": [
    "dac_stages1 = get_stages_info(df1,state_info,\"DAC\")\n",
    "freq_stages1 = get_stages_info(df1,state_info,\"Frequency Error\")\n",
    "ph_stages1 = get_stages_info(df1,state_info,\"Phase Error\")\n",
    "temp_stages1 = get_stages_info(df1,state_info,\"Temperature\")"
   ]
  },
  {
   "cell_type": "code",
   "execution_count": null,
   "id": "c8d635b5",
   "metadata": {},
   "outputs": [],
   "source": [
    "dac_stages1 = stabilize_stages(150,dac_stages1)\n",
    "freq_stages1 = stabilize_stages(150,freq_stages1)\n",
    "ph_stages1 = stabilize_stages(150,ph_stages1)\n",
    "temp_stages1 = stabilize_stages(150,temp_stages1)"
   ]
  },
  {
   "cell_type": "code",
   "execution_count": null,
   "id": "0d07bf7b",
   "metadata": {},
   "outputs": [],
   "source": [
    "plt.figure(figsize=(14,12))\n",
    "plt.suptitle('          Etapas estables de disciplinado (Reloj=154)',fontsize=18)\n",
    "plt.subplot(4, 1, 1)\n",
    "\n",
    "plt.title('DAC')\n",
    "for stage in dac_stages1:\n",
    "    sns.lineplot(data=stage[1])\n",
    "\n",
    "sns.set_style(\"darkgrid\")\n",
    "\n",
    "sns.despine()\n",
    "\n",
    "plt.subplot(4, 1, 2)\n",
    "\n",
    "plt.title('Error de Frecuencia')\n",
    "for stage in freq_stages1:\n",
    "    sns.lineplot(data=stage[1])\n",
    "\n",
    "sns.set_style(\"darkgrid\")\n",
    "\n",
    "sns.despine()\n",
    "\n",
    "plt.subplot(4, 1, 3)\n",
    "\n",
    "plt.title('Error de Fase')\n",
    "for stage in ph_stages1:\n",
    "    sns.lineplot(data=stage[1])\n",
    "\n",
    "sns.set_style(\"darkgrid\")\n",
    "\n",
    "sns.despine()\n",
    "\n",
    "plt.subplot(4, 1, 4)\n",
    "\n",
    "plt.title('Temperatura')\n",
    "for stage in temp_stages1:\n",
    "    sns.lineplot(data=stage[1])\n",
    "\n",
    "sns.set_style(\"darkgrid\")\n",
    "\n",
    "sns.despine()\n",
    "\n",
    "plt.tight_layout()\n",
    "\n",
    "#plt.savefig(\"fotos/etapas_juntas_todas_variables154.png\")"
   ]
  },
  {
   "cell_type": "code",
   "execution_count": null,
   "id": "2157d300",
   "metadata": {},
   "outputs": [],
   "source": [
    "concat_dac_stages = np.array([])\n",
    "for stage in dac_stages1:\n",
    "    concat_dac_stages = np.append(concat_dac_stages,stage[1])\n",
    "concat_freq_stages = np.array([])\n",
    "for stage in freq_stages1:\n",
    "    concat_freq_stages = np.append(concat_freq_stages,stage[1])\n",
    "concat_ph_stages = np.array([])\n",
    "for stage in ph_stages1:\n",
    "    concat_ph_stages = np.append(concat_ph_stages,stage[1])\n",
    "concat_temp_stages = np.array([])\n",
    "for stage in temp_stages1:\n",
    "    concat_temp_stages = np.append(concat_temp_stages,stage[1])\n",
    "\n",
    "df1 = pd.DataFrame()\n",
    "df1['DAC'] = concat_dac_stages\n",
    "df1['Frequency Error'] = concat_freq_stages\n",
    "df1['Phase Error'] = concat_ph_stages\n",
    "df1['Temperature'] = concat_temp_stages\n",
    "df = df.append(df1, ignore_index=True)\n"
   ]
  },
  {
   "cell_type": "code",
   "execution_count": null,
   "id": "9e813d24",
   "metadata": {},
   "outputs": [],
   "source": [
    "len(df)"
   ]
  },
  {
   "cell_type": "code",
   "execution_count": null,
   "id": "ac8b1999",
   "metadata": {},
   "outputs": [],
   "source": [
    "df1.to_csv(\"datasets/processed_data_with_stages_154.csv\")"
   ]
  },
  {
   "attachments": {},
   "cell_type": "markdown",
   "id": "ed443f2d",
   "metadata": {},
   "source": [
    "### Oscillator 155"
   ]
  },
  {
   "cell_type": "code",
   "execution_count": null,
   "id": "34e02d3a",
   "metadata": {},
   "outputs": [],
   "source": [
    "OSCILLATOR=\"155\"\n",
    "EXPORTED_TIMESTAMP=\"1656424222\"\n",
    "TIME_FRAME=\"M\"\n",
    "df2 = get_raw_states(OSCILLATOR,TIME_FRAME)"
   ]
  },
  {
   "cell_type": "code",
   "execution_count": null,
   "id": "8aa7fd7f",
   "metadata": {},
   "outputs": [],
   "source": [
    "plt.figure(figsize=(12,6))\n",
    "plt.title(\"State through time\")\n",
    "sns.set_style(\"darkgrid\")\n",
    "sns.lineplot(data=df2[\"State\"], color=\"#c6474b\")\n",
    "#plt.ylabel(\"State\")\n",
    "sns.despine()\n",
    "#plt.xlim([600,1000])"
   ]
  },
  {
   "cell_type": "code",
   "execution_count": null,
   "id": "91a9a3a6",
   "metadata": {},
   "outputs": [],
   "source": [
    "df2 = delete_constant_lock_values(df2)\n",
    "df2 = get_lock_state_timestamps(df2)\n",
    "df2 = join_features(df2, OSCILLATOR, TIME_FRAME)\n",
    "df2 = format_features(df2)"
   ]
  },
  {
   "cell_type": "code",
   "execution_count": null,
   "id": "b3a9114e",
   "metadata": {},
   "outputs": [],
   "source": [
    "plt.figure(figsize=(16,7))\n",
    "#plt.subplot(1, 2, 1)\n",
    "plt.title(\"DAC (Target)\")\n",
    "sns.set_style(\"darkgrid\")\n",
    "sns.lineplot(data=df2[\"DAC\"].values, color=\"#c6474b\")\n",
    "#plt.ylabel(\"State\")\n",
    "sns.despine()\n",
    "#plt.xlim([0,3584])"
   ]
  },
  {
   "cell_type": "code",
   "execution_count": null,
   "id": "f0b5c374",
   "metadata": {},
   "outputs": [],
   "source": [
    "state_info = get_state_change_by_timestamp(OSCILLATOR, TIME_FRAME)\n",
    "while state_info[\"Lock=4\"].value_counts()[4] != state_info[\"Lock=4\"].value_counts()[3]:\n",
    "    state_info = state_info.drop(state_info[state_info['Lock=4'].eq(3).shift(1, fill_value=False) & state_info['Lock=4'].eq(4).shift(-1, fill_value=False) & state_info['Lock=4'].eq(4)].index, axis=0)"
   ]
  },
  {
   "cell_type": "code",
   "execution_count": null,
   "id": "7b91f1c1",
   "metadata": {},
   "outputs": [],
   "source": [
    "dac_stages2 = get_stages_info(df2,state_info,\"DAC\")\n",
    "freq_stages2 = get_stages_info(df2,state_info,\"Frequency Error\")\n",
    "ph_stages2 = get_stages_info(df2,state_info,\"Phase Error\")\n",
    "temp_stages2 = get_stages_info(df2,state_info,\"Temperature\")"
   ]
  },
  {
   "cell_type": "code",
   "execution_count": null,
   "id": "2c001cd6",
   "metadata": {},
   "outputs": [],
   "source": [
    "dac_stages2 = stabilize_stages(150,dac_stages2)\n",
    "freq_stages2 = stabilize_stages(150,freq_stages2)\n",
    "ph_stages2 = stabilize_stages(150,ph_stages2)\n",
    "temp_stages2 = stabilize_stages(150,temp_stages2)"
   ]
  },
  {
   "cell_type": "code",
   "execution_count": null,
   "id": "df51fe40",
   "metadata": {},
   "outputs": [],
   "source": [
    "plt.figure(figsize=(14,12))\n",
    "plt.suptitle('          Etapas estables de disciplinado (Reloj=155)',fontsize=18)\n",
    "plt.subplot(4, 1, 1)\n",
    "\n",
    "plt.title('DAC')\n",
    "for stage in dac_stages2:\n",
    "    sns.lineplot(data=stage[1])\n",
    "\n",
    "sns.set_style(\"darkgrid\")\n",
    "\n",
    "sns.despine()\n",
    "\n",
    "plt.subplot(4, 1, 2)\n",
    "\n",
    "plt.title('Error de Frecuencia')\n",
    "for stage in freq_stages2:\n",
    "    sns.lineplot(data=stage[1])\n",
    "\n",
    "sns.set_style(\"darkgrid\")\n",
    "\n",
    "sns.despine()\n",
    "\n",
    "plt.subplot(4, 1, 3)\n",
    "\n",
    "plt.title('Error de Fase')\n",
    "for stage in ph_stages2:\n",
    "    sns.lineplot(data=stage[1])\n",
    "\n",
    "sns.set_style(\"darkgrid\")\n",
    "\n",
    "sns.despine()\n",
    "\n",
    "plt.subplot(4, 1, 4)\n",
    "\n",
    "plt.title('Temperatura')\n",
    "for stage in temp_stages2:\n",
    "    sns.lineplot(data=stage[1])\n",
    "\n",
    "sns.set_style(\"darkgrid\")\n",
    "\n",
    "sns.despine()\n",
    "\n",
    "plt.tight_layout()\n",
    "\n",
    "#plt.savefig(\"fotos/etapas_juntas_todas_variables155.png\")"
   ]
  },
  {
   "cell_type": "code",
   "execution_count": null,
   "id": "b4144653",
   "metadata": {},
   "outputs": [],
   "source": [
    "concat_dac_stages = np.array([])\n",
    "for stage in dac_stages2:\n",
    "    concat_dac_stages = np.append(concat_dac_stages,stage[1])\n",
    "concat_freq_stages = np.array([])\n",
    "for stage in freq_stages2:\n",
    "    concat_freq_stages = np.append(concat_freq_stages,stage[1])\n",
    "concat_ph_stages = np.array([])\n",
    "for stage in ph_stages2:\n",
    "    concat_ph_stages = np.append(concat_ph_stages,stage[1])\n",
    "concat_temp_stages = np.array([])\n",
    "for stage in temp_stages2:\n",
    "    concat_temp_stages = np.append(concat_temp_stages,stage[1])\n",
    "\n",
    "df2 = pd.DataFrame()\n",
    "df2['DAC'] = concat_dac_stages\n",
    "df2['Frequency Error'] = concat_freq_stages\n",
    "df2['Phase Error'] = concat_ph_stages\n",
    "df2['Temperature'] = concat_temp_stages\n",
    "df = df.append(df2, ignore_index=True)"
   ]
  },
  {
   "cell_type": "code",
   "execution_count": null,
   "id": "7cc1a96a",
   "metadata": {},
   "outputs": [],
   "source": [
    "len(df)"
   ]
  },
  {
   "cell_type": "code",
   "execution_count": null,
   "id": "3caf3517",
   "metadata": {},
   "outputs": [],
   "source": [
    "df2.to_csv(\"datasets/processed_data_with_stages_155.csv\")\n",
    "df.to_csv(\"datasets/processed_data_with_stages_all_oscillators.csv\")"
   ]
  }
 ],
 "metadata": {
  "kernelspec": {
   "display_name": "Python 3",
   "language": "python",
   "name": "python3"
  },
  "language_info": {
   "codemirror_mode": {
    "name": "ipython",
    "version": 3
   },
   "file_extension": ".py",
   "mimetype": "text/x-python",
   "name": "python",
   "nbconvert_exporter": "python",
   "pygments_lexer": "ipython3",
   "version": "3.6.9"
  }
 },
 "nbformat": 4,
 "nbformat_minor": 5
}
